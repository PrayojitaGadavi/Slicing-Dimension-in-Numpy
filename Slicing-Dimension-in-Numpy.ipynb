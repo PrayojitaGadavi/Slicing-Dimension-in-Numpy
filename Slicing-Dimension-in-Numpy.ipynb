{
 "cells": [
  {
   "cell_type": "code",
   "execution_count": 1,
   "id": "99d5c223",
   "metadata": {},
   "outputs": [
    {
     "name": "stdout",
     "output_type": "stream",
     "text": [
      "[60 70 80]\n"
     ]
    }
   ],
   "source": [
    "import numpy as np\n",
    "i = np.array([\n",
    "[10, 20, 30, 40, 50], # 0 - 0 1 2 3 4\n",
    "[60, 70, 80, 90, 100] # 1 - 0 1 2 3 4\n",
    "])\n",
    "print(i[1, 0:3])"
   ]
  },
  {
   "cell_type": "code",
   "execution_count": 5,
   "id": "2da3a84c",
   "metadata": {},
   "outputs": [
    {
     "name": "stdout",
     "output_type": "stream",
     "text": [
      "[25 35 45]\n"
     ]
    }
   ],
   "source": [
    "import numpy as np\n",
    "p = np.array([\n",
    "[15, 25, 35, 45, 55], # 0 - 0 1 2 3 4\n",
    "[60, 70, 80, 90, 100] # 1 - 0 1 2 3 4\n",
    " ])\n",
    "print(p[0, 1:4])"
   ]
  },
  {
   "cell_type": "code",
   "execution_count": 7,
   "id": "6331e4b3",
   "metadata": {},
   "outputs": [
    {
     "name": "stdout",
     "output_type": "stream",
     "text": [
      "[33 44]\n"
     ]
    }
   ],
   "source": [
    "i = np.array([\n",
    " [10, 20, 30, 40, 50], # 0 - 0 1 2 3 4\n",
    " [60, 70, 80, 90, 100], # 1 - 0 1 2 3 4\n",
    " [11, 22, 33, 44, 55] # 2 - 0 1 2 3 4\n",
    " ])\n",
    "print(i[2, 2:4])"
   ]
  },
  {
   "cell_type": "code",
   "execution_count": 8,
   "id": "f764117c",
   "metadata": {},
   "outputs": [
    {
     "name": "stdout",
     "output_type": "stream",
     "text": [
      "[20 70]\n"
     ]
    }
   ],
   "source": [
    "import numpy as np\n",
    "i = np.array([\n",
    " [10, 20, 30, 40, 50], # 0 - 0 1 2 3 4\n",
    " [60, 70, 80, 90, 100], # 1 - 0 1 2 3 4\n",
    " [11, 22, 33, 44, 55] # 2 - 0 1 2 3 4\n",
    " ])\n",
    "print(i[0:2, 1])"
   ]
  },
  {
   "cell_type": "code",
   "execution_count": 9,
   "id": "17a9d8d2",
   "metadata": {},
   "outputs": [
    {
     "name": "stdout",
     "output_type": "stream",
     "text": [
      "[30 80 33]\n"
     ]
    }
   ],
   "source": [
    "import numpy as np\n",
    "i = np.array([\n",
    "[10, 20, 30, 40, 50], # 0 - 0 1 2 3 4\n",
    "[60, 70, 80, 90, 100], # 1 - 0 1 2 3 4\n",
    "[11, 22, 33, 44, 55], # 2 - 0 1 2 3 4\n",
    "[1, 2, 3, 4, 5] # 2 - 0 1 2 3 4\n",
    "])\n",
    "print(i[0:3, 2])"
   ]
  },
  {
   "cell_type": "code",
   "execution_count": 10,
   "id": "5d88fbf8",
   "metadata": {},
   "outputs": [
    {
     "name": "stdout",
     "output_type": "stream",
     "text": [
      "[[10 20]\n",
      " [60 70]\n",
      " [11 22]\n",
      " [ 1  2]]\n"
     ]
    }
   ],
   "source": [
    "import numpy as np\n",
    "i = np.array([\n",
    " [10, 20, 30, 40, 50], # 0 - 0 1 2 3 4\n",
    " [60, 70, 80, 90, 100], # 1 - 0 1 2 3 4\n",
    " [11, 22, 33, 44, 55], # 2 - 0 1 2 3 4\n",
    " [1, 2, 3, 4, 5] # 2 - 0 1 2 3 4\n",
    " ])\n",
    "print(i[0:4, 0:2])"
   ]
  },
  {
   "cell_type": "code",
   "execution_count": 11,
   "id": "4f93dcfa",
   "metadata": {},
   "outputs": [
    {
     "name": "stdout",
     "output_type": "stream",
     "text": [
      "[[30 40]\n",
      " [80 90]]\n"
     ]
    }
   ],
   "source": [
    "import numpy as np\n",
    "i = np.array([\n",
    "[10, 20, 30, 40, 50], # 0 - 0 1 2 3 4\n",
    "[60, 70, 80, 90, 100], # 1 - 0 1 2 3 4\n",
    "[11, 22, 33, 44, 55], # 2 - 0 1 2 3 4\n",
    "[1, 2, 3, 4, 5] # 2 - 0 1 2 3 4\n",
    "])\n",
    "print(i[0:2, 2:4])"
   ]
  },
  {
   "cell_type": "code",
   "execution_count": 13,
   "id": "c1d11cb1",
   "metadata": {},
   "outputs": [
    {
     "name": "stdout",
     "output_type": "stream",
     "text": [
      "[[30 40]\n",
      " [80 90]\n",
      " [33 44]]\n"
     ]
    }
   ],
   "source": [
    "import numpy as np\n",
    "i = np.array([\n",
    " [10, 20, 30, 40, 50], # 0 - 0 1 2 3 4\n",
    " [60, 70, 80, 90, 100], # 1 - 0 1 2 3 4\n",
    " [11, 22, 33, 44, 55], # 2 - 0 1 2 3 4\n",
    " [1, 2, 3, 4, 5] # 2 - 0 1 2 3 4\n",
    " ])\n",
    "print(i[0:3, -3:-1])"
   ]
  },
  {
   "cell_type": "code",
   "execution_count": null,
   "id": "19c55b0e",
   "metadata": {},
   "outputs": [],
   "source": []
  }
 ],
 "metadata": {
  "kernelspec": {
   "display_name": "Python 3",
   "language": "python",
   "name": "python3"
  },
  "language_info": {
   "codemirror_mode": {
    "name": "ipython",
    "version": 3
   },
   "file_extension": ".py",
   "mimetype": "text/x-python",
   "name": "python",
   "nbconvert_exporter": "python",
   "pygments_lexer": "ipython3",
   "version": "3.8.8"
  }
 },
 "nbformat": 4,
 "nbformat_minor": 5
}
